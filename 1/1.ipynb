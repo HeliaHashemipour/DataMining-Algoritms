{
 "cells": [
  {
   "cell_type": "code",
   "execution_count": 62,
   "id": "a8338254-aac5-4b8f-9882-f98b9b143a88",
   "metadata": {
    "tags": []
   },
   "outputs": [],
   "source": [
    "import pandas as pd\n",
    "\n",
    "df = pd.read_csv(\"penguins.csv\", names=[\"island\", \"bill_length_mm\", \"bill_depth_mm\", \"flipper_length_mm\", \"body_mass_g\", \"sex\", \"species\"])"
   ]
  },
  {
   "cell_type": "code",
   "execution_count": 63,
   "id": "7376a900-1c4e-44f3-b0e9-dbfe655986b4",
   "metadata": {
    "tags": []
   },
   "outputs": [
    {
     "data": {
      "text/html": [
       "<div>\n",
       "<style scoped>\n",
       "    .dataframe tbody tr th:only-of-type {\n",
       "        vertical-align: middle;\n",
       "    }\n",
       "\n",
       "    .dataframe tbody tr th {\n",
       "        vertical-align: top;\n",
       "    }\n",
       "\n",
       "    .dataframe thead th {\n",
       "        text-align: right;\n",
       "    }\n",
       "</style>\n",
       "<table border=\"1\" class=\"dataframe\">\n",
       "  <thead>\n",
       "    <tr style=\"text-align: right;\">\n",
       "      <th></th>\n",
       "      <th>island</th>\n",
       "      <th>bill_length_mm</th>\n",
       "      <th>bill_depth_mm</th>\n",
       "      <th>flipper_length_mm</th>\n",
       "      <th>body_mass_g</th>\n",
       "      <th>sex</th>\n",
       "      <th>species</th>\n",
       "    </tr>\n",
       "  </thead>\n",
       "  <tbody>\n",
       "    <tr>\n",
       "      <th>0</th>\n",
       "      <td>Torgersen</td>\n",
       "      <td>39.1</td>\n",
       "      <td>18.7</td>\n",
       "      <td>181.0</td>\n",
       "      <td>3750.0</td>\n",
       "      <td>male</td>\n",
       "      <td>Adelie</td>\n",
       "    </tr>\n",
       "    <tr>\n",
       "      <th>1</th>\n",
       "      <td>Torgersen</td>\n",
       "      <td>39.5</td>\n",
       "      <td>17.4</td>\n",
       "      <td>186.0</td>\n",
       "      <td>3800.0</td>\n",
       "      <td>female</td>\n",
       "      <td>Adelie</td>\n",
       "    </tr>\n",
       "    <tr>\n",
       "      <th>2</th>\n",
       "      <td>Torgersen</td>\n",
       "      <td>40.3</td>\n",
       "      <td>18.0</td>\n",
       "      <td>195.0</td>\n",
       "      <td>3250.0</td>\n",
       "      <td>female</td>\n",
       "      <td>Adelie</td>\n",
       "    </tr>\n",
       "    <tr>\n",
       "      <th>3</th>\n",
       "      <td>Torgersen</td>\n",
       "      <td>NaN</td>\n",
       "      <td>NaN</td>\n",
       "      <td>NaN</td>\n",
       "      <td>NaN</td>\n",
       "      <td>NaN</td>\n",
       "      <td>Adelie</td>\n",
       "    </tr>\n",
       "    <tr>\n",
       "      <th>4</th>\n",
       "      <td>Torgersen</td>\n",
       "      <td>36.7</td>\n",
       "      <td>19.3</td>\n",
       "      <td>193.0</td>\n",
       "      <td>3450.0</td>\n",
       "      <td>female</td>\n",
       "      <td>Adelie</td>\n",
       "    </tr>\n",
       "  </tbody>\n",
       "</table>\n",
       "</div>"
      ],
      "text/plain": [
       "      island  bill_length_mm  bill_depth_mm  flipper_length_mm  body_mass_g  \\\n",
       "0  Torgersen            39.1           18.7              181.0       3750.0   \n",
       "1  Torgersen            39.5           17.4              186.0       3800.0   \n",
       "2  Torgersen            40.3           18.0              195.0       3250.0   \n",
       "3  Torgersen             NaN            NaN                NaN          NaN   \n",
       "4  Torgersen            36.7           19.3              193.0       3450.0   \n",
       "\n",
       "      sex species  \n",
       "0    male  Adelie  \n",
       "1  female  Adelie  \n",
       "2  female  Adelie  \n",
       "3     NaN  Adelie  \n",
       "4  female  Adelie  "
      ]
     },
     "execution_count": 63,
     "metadata": {},
     "output_type": "execute_result"
    }
   ],
   "source": [
    "df.head()"
   ]
  },
  {
   "cell_type": "code",
   "execution_count": 64,
   "id": "5749fa17",
   "metadata": {},
   "outputs": [
    {
     "name": "stdout",
     "output_type": "stream",
     "text": [
      "<class 'pandas.core.frame.DataFrame'>\n",
      "RangeIndex: 344 entries, 0 to 343\n",
      "Data columns (total 7 columns):\n",
      " #   Column             Non-Null Count  Dtype  \n",
      "---  ------             --------------  -----  \n",
      " 0   island             344 non-null    object \n",
      " 1   bill_length_mm     342 non-null    float64\n",
      " 2   bill_depth_mm      342 non-null    float64\n",
      " 3   flipper_length_mm  342 non-null    float64\n",
      " 4   body_mass_g        342 non-null    float64\n",
      " 5   sex                333 non-null    object \n",
      " 6   species            344 non-null    object \n",
      "dtypes: float64(4), object(3)\n",
      "memory usage: 18.9+ KB\n"
     ]
    }
   ],
   "source": [
    "df.info()"
   ]
  },
  {
   "cell_type": "code",
   "execution_count": 65,
   "id": "bba0a69f",
   "metadata": {},
   "outputs": [
    {
     "data": {
      "text/html": [
       "<div>\n",
       "<style scoped>\n",
       "    .dataframe tbody tr th:only-of-type {\n",
       "        vertical-align: middle;\n",
       "    }\n",
       "\n",
       "    .dataframe tbody tr th {\n",
       "        vertical-align: top;\n",
       "    }\n",
       "\n",
       "    .dataframe thead th {\n",
       "        text-align: right;\n",
       "    }\n",
       "</style>\n",
       "<table border=\"1\" class=\"dataframe\">\n",
       "  <thead>\n",
       "    <tr style=\"text-align: right;\">\n",
       "      <th></th>\n",
       "      <th>bill_length_mm</th>\n",
       "      <th>bill_depth_mm</th>\n",
       "      <th>flipper_length_mm</th>\n",
       "      <th>body_mass_g</th>\n",
       "    </tr>\n",
       "  </thead>\n",
       "  <tbody>\n",
       "    <tr>\n",
       "      <th>count</th>\n",
       "      <td>342.000000</td>\n",
       "      <td>342.000000</td>\n",
       "      <td>342.000000</td>\n",
       "      <td>342.000000</td>\n",
       "    </tr>\n",
       "    <tr>\n",
       "      <th>mean</th>\n",
       "      <td>43.921930</td>\n",
       "      <td>17.151170</td>\n",
       "      <td>200.915205</td>\n",
       "      <td>4201.754386</td>\n",
       "    </tr>\n",
       "    <tr>\n",
       "      <th>std</th>\n",
       "      <td>5.459584</td>\n",
       "      <td>1.974793</td>\n",
       "      <td>14.061714</td>\n",
       "      <td>801.954536</td>\n",
       "    </tr>\n",
       "    <tr>\n",
       "      <th>min</th>\n",
       "      <td>32.100000</td>\n",
       "      <td>13.100000</td>\n",
       "      <td>172.000000</td>\n",
       "      <td>2700.000000</td>\n",
       "    </tr>\n",
       "    <tr>\n",
       "      <th>25%</th>\n",
       "      <td>39.225000</td>\n",
       "      <td>15.600000</td>\n",
       "      <td>190.000000</td>\n",
       "      <td>3550.000000</td>\n",
       "    </tr>\n",
       "    <tr>\n",
       "      <th>50%</th>\n",
       "      <td>44.450000</td>\n",
       "      <td>17.300000</td>\n",
       "      <td>197.000000</td>\n",
       "      <td>4050.000000</td>\n",
       "    </tr>\n",
       "    <tr>\n",
       "      <th>75%</th>\n",
       "      <td>48.500000</td>\n",
       "      <td>18.700000</td>\n",
       "      <td>213.000000</td>\n",
       "      <td>4750.000000</td>\n",
       "    </tr>\n",
       "    <tr>\n",
       "      <th>max</th>\n",
       "      <td>59.600000</td>\n",
       "      <td>21.500000</td>\n",
       "      <td>231.000000</td>\n",
       "      <td>6300.000000</td>\n",
       "    </tr>\n",
       "  </tbody>\n",
       "</table>\n",
       "</div>"
      ],
      "text/plain": [
       "       bill_length_mm  bill_depth_mm  flipper_length_mm  body_mass_g\n",
       "count      342.000000     342.000000         342.000000   342.000000\n",
       "mean        43.921930      17.151170         200.915205  4201.754386\n",
       "std          5.459584       1.974793          14.061714   801.954536\n",
       "min         32.100000      13.100000         172.000000  2700.000000\n",
       "25%         39.225000      15.600000         190.000000  3550.000000\n",
       "50%         44.450000      17.300000         197.000000  4050.000000\n",
       "75%         48.500000      18.700000         213.000000  4750.000000\n",
       "max         59.600000      21.500000         231.000000  6300.000000"
      ]
     },
     "execution_count": 65,
     "metadata": {},
     "output_type": "execute_result"
    }
   ],
   "source": [
    "df.describe()"
   ]
  },
  {
   "cell_type": "markdown",
   "id": "be57203e-8d37-4441-ad98-4fa0f0e9f18e",
   "metadata": {},
   "source": [
    "## Q1"
   ]
  },
  {
   "cell_type": "code",
   "execution_count": 66,
   "id": "ed65d4fa-f4e4-45b4-9577-a80b92258790",
   "metadata": {
    "tags": []
   },
   "outputs": [
    {
     "data": {
      "text/html": [
       "<div>\n",
       "<style scoped>\n",
       "    .dataframe tbody tr th:only-of-type {\n",
       "        vertical-align: middle;\n",
       "    }\n",
       "\n",
       "    .dataframe tbody tr th {\n",
       "        vertical-align: top;\n",
       "    }\n",
       "\n",
       "    .dataframe thead th {\n",
       "        text-align: right;\n",
       "    }\n",
       "</style>\n",
       "<table border=\"1\" class=\"dataframe\">\n",
       "  <thead>\n",
       "    <tr style=\"text-align: right;\">\n",
       "      <th></th>\n",
       "      <th>island</th>\n",
       "      <th>bill_length_mm</th>\n",
       "      <th>bill_depth_mm</th>\n",
       "      <th>flipper_length_mm</th>\n",
       "      <th>body_mass_g</th>\n",
       "      <th>sex</th>\n",
       "      <th>species</th>\n",
       "    </tr>\n",
       "  </thead>\n",
       "  <tbody>\n",
       "    <tr>\n",
       "      <th>0</th>\n",
       "      <td>False</td>\n",
       "      <td>False</td>\n",
       "      <td>False</td>\n",
       "      <td>False</td>\n",
       "      <td>False</td>\n",
       "      <td>False</td>\n",
       "      <td>False</td>\n",
       "    </tr>\n",
       "    <tr>\n",
       "      <th>1</th>\n",
       "      <td>False</td>\n",
       "      <td>False</td>\n",
       "      <td>False</td>\n",
       "      <td>False</td>\n",
       "      <td>False</td>\n",
       "      <td>False</td>\n",
       "      <td>False</td>\n",
       "    </tr>\n",
       "    <tr>\n",
       "      <th>2</th>\n",
       "      <td>False</td>\n",
       "      <td>False</td>\n",
       "      <td>False</td>\n",
       "      <td>False</td>\n",
       "      <td>False</td>\n",
       "      <td>False</td>\n",
       "      <td>False</td>\n",
       "    </tr>\n",
       "    <tr>\n",
       "      <th>3</th>\n",
       "      <td>False</td>\n",
       "      <td>True</td>\n",
       "      <td>True</td>\n",
       "      <td>True</td>\n",
       "      <td>True</td>\n",
       "      <td>True</td>\n",
       "      <td>False</td>\n",
       "    </tr>\n",
       "    <tr>\n",
       "      <th>4</th>\n",
       "      <td>False</td>\n",
       "      <td>False</td>\n",
       "      <td>False</td>\n",
       "      <td>False</td>\n",
       "      <td>False</td>\n",
       "      <td>False</td>\n",
       "      <td>False</td>\n",
       "    </tr>\n",
       "    <tr>\n",
       "      <th>...</th>\n",
       "      <td>...</td>\n",
       "      <td>...</td>\n",
       "      <td>...</td>\n",
       "      <td>...</td>\n",
       "      <td>...</td>\n",
       "      <td>...</td>\n",
       "      <td>...</td>\n",
       "    </tr>\n",
       "    <tr>\n",
       "      <th>339</th>\n",
       "      <td>False</td>\n",
       "      <td>False</td>\n",
       "      <td>False</td>\n",
       "      <td>False</td>\n",
       "      <td>False</td>\n",
       "      <td>False</td>\n",
       "      <td>False</td>\n",
       "    </tr>\n",
       "    <tr>\n",
       "      <th>340</th>\n",
       "      <td>False</td>\n",
       "      <td>False</td>\n",
       "      <td>False</td>\n",
       "      <td>False</td>\n",
       "      <td>False</td>\n",
       "      <td>False</td>\n",
       "      <td>False</td>\n",
       "    </tr>\n",
       "    <tr>\n",
       "      <th>341</th>\n",
       "      <td>False</td>\n",
       "      <td>False</td>\n",
       "      <td>False</td>\n",
       "      <td>False</td>\n",
       "      <td>False</td>\n",
       "      <td>False</td>\n",
       "      <td>False</td>\n",
       "    </tr>\n",
       "    <tr>\n",
       "      <th>342</th>\n",
       "      <td>False</td>\n",
       "      <td>False</td>\n",
       "      <td>False</td>\n",
       "      <td>False</td>\n",
       "      <td>False</td>\n",
       "      <td>False</td>\n",
       "      <td>False</td>\n",
       "    </tr>\n",
       "    <tr>\n",
       "      <th>343</th>\n",
       "      <td>False</td>\n",
       "      <td>False</td>\n",
       "      <td>False</td>\n",
       "      <td>False</td>\n",
       "      <td>False</td>\n",
       "      <td>False</td>\n",
       "      <td>False</td>\n",
       "    </tr>\n",
       "  </tbody>\n",
       "</table>\n",
       "<p>344 rows × 7 columns</p>\n",
       "</div>"
      ],
      "text/plain": [
       "     island  bill_length_mm  bill_depth_mm  flipper_length_mm  body_mass_g  \\\n",
       "0     False           False          False              False        False   \n",
       "1     False           False          False              False        False   \n",
       "2     False           False          False              False        False   \n",
       "3     False            True           True               True         True   \n",
       "4     False           False          False              False        False   \n",
       "..      ...             ...            ...                ...          ...   \n",
       "339   False           False          False              False        False   \n",
       "340   False           False          False              False        False   \n",
       "341   False           False          False              False        False   \n",
       "342   False           False          False              False        False   \n",
       "343   False           False          False              False        False   \n",
       "\n",
       "       sex  species  \n",
       "0    False    False  \n",
       "1    False    False  \n",
       "2    False    False  \n",
       "3     True    False  \n",
       "4    False    False  \n",
       "..     ...      ...  \n",
       "339  False    False  \n",
       "340  False    False  \n",
       "341  False    False  \n",
       "342  False    False  \n",
       "343  False    False  \n",
       "\n",
       "[344 rows x 7 columns]"
      ]
     },
     "execution_count": 66,
     "metadata": {},
     "output_type": "execute_result"
    }
   ],
   "source": [
    "df.isna()"
   ]
  },
  {
   "cell_type": "code",
   "execution_count": 67,
   "id": "d1abd898-a010-4fc0-b813-df3f0cc76087",
   "metadata": {
    "tags": []
   },
   "outputs": [
    {
     "data": {
      "text/plain": [
       "island                0\n",
       "bill_length_mm        2\n",
       "bill_depth_mm         2\n",
       "flipper_length_mm     2\n",
       "body_mass_g           2\n",
       "sex                  11\n",
       "species               0\n",
       "dtype: int64"
      ]
     },
     "execution_count": 67,
     "metadata": {},
     "output_type": "execute_result"
    }
   ],
   "source": [
    "num_nans = df.isna().sum() # count the missing values\n",
    "\n",
    "num_nans # show the missing values"
   ]
  },
  {
   "cell_type": "markdown",
   "id": "5851c37a-f073-4f50-8f0b-716ea4581297",
   "metadata": {},
   "source": [
    "## Q2"
   ]
  },
  {
   "cell_type": "code",
   "execution_count": 68,
   "id": "03828ae2-92ba-4cb6-acad-3fd519dfa193",
   "metadata": {
    "tags": []
   },
   "outputs": [
    {
     "name": "stdout",
     "output_type": "stream",
     "text": [
      "Number of rows before deletion: 344\n",
      "Number of rows after deletion: 333\n"
     ]
    }
   ],
   "source": [
    " # print the number of rows in the dataset before deletion\n",
    "print(f\"Number of rows before deletion: {len(df)}\")\n",
    "\n",
    "# remove rows with missing data\n",
    "df_new_drop = df.dropna()\n",
    "\n",
    "# print the number of rows in the dataset after deletion\n",
    "print(f\"Number of rows after deletion: {len(df_new_drop)}\")\n",
    "# print(df_new.shape)\n",
    "\n",
    "# print the dataframe after deletion\n",
    "# df_new"
   ]
  },
  {
   "cell_type": "markdown",
   "id": "6f8ad58b-d0c9-449a-8e81-9da443717580",
   "metadata": {},
   "source": [
    "## Q3"
   ]
  },
  {
   "cell_type": "code",
   "execution_count": 69,
   "id": "f184bce6-f048-4aa1-907e-28b079e0e186",
   "metadata": {
    "tags": []
   },
   "outputs": [],
   "source": [
    "from sklearn.impute import SimpleImputer\n",
    "\n",
    "numeric_columns = ['bill_length_mm', 'bill_depth_mm', 'flipper_length_mm', 'body_mass_g']\n",
    "nominal_columns = ['island', 'sex', 'species']\n",
    "\n",
    "imputer_numeric = SimpleImputer(strategy='mean')\n",
    "imputer_numeric.fit(df[numeric_columns])\n",
    "\n",
    "imputer_nominal = SimpleImputer(strategy='most_frequent')\n",
    "imputer_nominal.fit(df[nominal_columns])\n",
    "\n",
    "new_df = df.copy()\n",
    "new_df[numeric_columns] = imputer_numeric.transform(df[numeric_columns])\n",
    "new_df[nominal_columns] = imputer_nominal.transform(df[nominal_columns])"
   ]
  },
  {
   "cell_type": "code",
   "execution_count": 70,
   "id": "f3cec71d",
   "metadata": {},
   "outputs": [
    {
     "data": {
      "text/html": [
       "<div>\n",
       "<style scoped>\n",
       "    .dataframe tbody tr th:only-of-type {\n",
       "        vertical-align: middle;\n",
       "    }\n",
       "\n",
       "    .dataframe tbody tr th {\n",
       "        vertical-align: top;\n",
       "    }\n",
       "\n",
       "    .dataframe thead th {\n",
       "        text-align: right;\n",
       "    }\n",
       "</style>\n",
       "<table border=\"1\" class=\"dataframe\">\n",
       "  <thead>\n",
       "    <tr style=\"text-align: right;\">\n",
       "      <th></th>\n",
       "      <th>bill_length_mm</th>\n",
       "      <th>bill_depth_mm</th>\n",
       "      <th>flipper_length_mm</th>\n",
       "      <th>body_mass_g</th>\n",
       "    </tr>\n",
       "  </thead>\n",
       "  <tbody>\n",
       "    <tr>\n",
       "      <th>count</th>\n",
       "      <td>344.000000</td>\n",
       "      <td>344.000000</td>\n",
       "      <td>344.000000</td>\n",
       "      <td>344.000000</td>\n",
       "    </tr>\n",
       "    <tr>\n",
       "      <th>mean</th>\n",
       "      <td>43.921930</td>\n",
       "      <td>17.151170</td>\n",
       "      <td>200.915205</td>\n",
       "      <td>4201.754386</td>\n",
       "    </tr>\n",
       "    <tr>\n",
       "      <th>std</th>\n",
       "      <td>5.443643</td>\n",
       "      <td>1.969027</td>\n",
       "      <td>14.020657</td>\n",
       "      <td>799.613058</td>\n",
       "    </tr>\n",
       "    <tr>\n",
       "      <th>min</th>\n",
       "      <td>32.100000</td>\n",
       "      <td>13.100000</td>\n",
       "      <td>172.000000</td>\n",
       "      <td>2700.000000</td>\n",
       "    </tr>\n",
       "    <tr>\n",
       "      <th>25%</th>\n",
       "      <td>39.275000</td>\n",
       "      <td>15.600000</td>\n",
       "      <td>190.000000</td>\n",
       "      <td>3550.000000</td>\n",
       "    </tr>\n",
       "    <tr>\n",
       "      <th>50%</th>\n",
       "      <td>44.250000</td>\n",
       "      <td>17.300000</td>\n",
       "      <td>197.000000</td>\n",
       "      <td>4050.000000</td>\n",
       "    </tr>\n",
       "    <tr>\n",
       "      <th>75%</th>\n",
       "      <td>48.500000</td>\n",
       "      <td>18.700000</td>\n",
       "      <td>213.000000</td>\n",
       "      <td>4750.000000</td>\n",
       "    </tr>\n",
       "    <tr>\n",
       "      <th>max</th>\n",
       "      <td>59.600000</td>\n",
       "      <td>21.500000</td>\n",
       "      <td>231.000000</td>\n",
       "      <td>6300.000000</td>\n",
       "    </tr>\n",
       "  </tbody>\n",
       "</table>\n",
       "</div>"
      ],
      "text/plain": [
       "       bill_length_mm  bill_depth_mm  flipper_length_mm  body_mass_g\n",
       "count      344.000000     344.000000         344.000000   344.000000\n",
       "mean        43.921930      17.151170         200.915205  4201.754386\n",
       "std          5.443643       1.969027          14.020657   799.613058\n",
       "min         32.100000      13.100000         172.000000  2700.000000\n",
       "25%         39.275000      15.600000         190.000000  3550.000000\n",
       "50%         44.250000      17.300000         197.000000  4050.000000\n",
       "75%         48.500000      18.700000         213.000000  4750.000000\n",
       "max         59.600000      21.500000         231.000000  6300.000000"
      ]
     },
     "execution_count": 70,
     "metadata": {},
     "output_type": "execute_result"
    }
   ],
   "source": [
    "new_df.describe()"
   ]
  },
  {
   "cell_type": "markdown",
   "id": "ea89e480-cd1a-4db7-8a2f-adad87b518b7",
   "metadata": {},
   "source": [
    "## Q4"
   ]
  },
  {
   "cell_type": "code",
   "execution_count": 71,
   "id": "b0052b72-60dd-4e72-95a9-a921ac86d5ad",
   "metadata": {
    "tags": []
   },
   "outputs": [
    {
     "data": {
      "text/html": [
       "<div>\n",
       "<style scoped>\n",
       "    .dataframe tbody tr th:only-of-type {\n",
       "        vertical-align: middle;\n",
       "    }\n",
       "\n",
       "    .dataframe tbody tr th {\n",
       "        vertical-align: top;\n",
       "    }\n",
       "\n",
       "    .dataframe thead th {\n",
       "        text-align: right;\n",
       "    }\n",
       "</style>\n",
       "<table border=\"1\" class=\"dataframe\">\n",
       "  <thead>\n",
       "    <tr style=\"text-align: right;\">\n",
       "      <th></th>\n",
       "      <th>island</th>\n",
       "      <th>bill_length_mm</th>\n",
       "      <th>bill_depth_mm</th>\n",
       "      <th>flipper_length_mm</th>\n",
       "      <th>body_mass_g</th>\n",
       "      <th>sex</th>\n",
       "      <th>species</th>\n",
       "    </tr>\n",
       "  </thead>\n",
       "  <tbody>\n",
       "    <tr>\n",
       "      <th>count</th>\n",
       "      <td>344.000000</td>\n",
       "      <td>344.000000</td>\n",
       "      <td>344.000000</td>\n",
       "      <td>344.000000</td>\n",
       "      <td>344.000000</td>\n",
       "      <td>344.000000</td>\n",
       "      <td>344.000000</td>\n",
       "    </tr>\n",
       "    <tr>\n",
       "      <th>mean</th>\n",
       "      <td>0.662791</td>\n",
       "      <td>43.921930</td>\n",
       "      <td>17.151170</td>\n",
       "      <td>200.915205</td>\n",
       "      <td>4201.754386</td>\n",
       "      <td>0.520349</td>\n",
       "      <td>0.918605</td>\n",
       "    </tr>\n",
       "    <tr>\n",
       "      <th>std</th>\n",
       "      <td>0.726194</td>\n",
       "      <td>5.443643</td>\n",
       "      <td>1.969027</td>\n",
       "      <td>14.020657</td>\n",
       "      <td>799.613058</td>\n",
       "      <td>0.500313</td>\n",
       "      <td>0.893320</td>\n",
       "    </tr>\n",
       "    <tr>\n",
       "      <th>min</th>\n",
       "      <td>0.000000</td>\n",
       "      <td>32.100000</td>\n",
       "      <td>13.100000</td>\n",
       "      <td>172.000000</td>\n",
       "      <td>2700.000000</td>\n",
       "      <td>0.000000</td>\n",
       "      <td>0.000000</td>\n",
       "    </tr>\n",
       "    <tr>\n",
       "      <th>25%</th>\n",
       "      <td>0.000000</td>\n",
       "      <td>39.275000</td>\n",
       "      <td>15.600000</td>\n",
       "      <td>190.000000</td>\n",
       "      <td>3550.000000</td>\n",
       "      <td>0.000000</td>\n",
       "      <td>0.000000</td>\n",
       "    </tr>\n",
       "    <tr>\n",
       "      <th>50%</th>\n",
       "      <td>1.000000</td>\n",
       "      <td>44.250000</td>\n",
       "      <td>17.300000</td>\n",
       "      <td>197.000000</td>\n",
       "      <td>4050.000000</td>\n",
       "      <td>1.000000</td>\n",
       "      <td>1.000000</td>\n",
       "    </tr>\n",
       "    <tr>\n",
       "      <th>75%</th>\n",
       "      <td>1.000000</td>\n",
       "      <td>48.500000</td>\n",
       "      <td>18.700000</td>\n",
       "      <td>213.000000</td>\n",
       "      <td>4750.000000</td>\n",
       "      <td>1.000000</td>\n",
       "      <td>2.000000</td>\n",
       "    </tr>\n",
       "    <tr>\n",
       "      <th>max</th>\n",
       "      <td>2.000000</td>\n",
       "      <td>59.600000</td>\n",
       "      <td>21.500000</td>\n",
       "      <td>231.000000</td>\n",
       "      <td>6300.000000</td>\n",
       "      <td>1.000000</td>\n",
       "      <td>2.000000</td>\n",
       "    </tr>\n",
       "  </tbody>\n",
       "</table>\n",
       "</div>"
      ],
      "text/plain": [
       "           island  bill_length_mm  bill_depth_mm  flipper_length_mm  \\\n",
       "count  344.000000      344.000000     344.000000         344.000000   \n",
       "mean     0.662791       43.921930      17.151170         200.915205   \n",
       "std      0.726194        5.443643       1.969027          14.020657   \n",
       "min      0.000000       32.100000      13.100000         172.000000   \n",
       "25%      0.000000       39.275000      15.600000         190.000000   \n",
       "50%      1.000000       44.250000      17.300000         197.000000   \n",
       "75%      1.000000       48.500000      18.700000         213.000000   \n",
       "max      2.000000       59.600000      21.500000         231.000000   \n",
       "\n",
       "       body_mass_g         sex     species  \n",
       "count   344.000000  344.000000  344.000000  \n",
       "mean   4201.754386    0.520349    0.918605  \n",
       "std     799.613058    0.500313    0.893320  \n",
       "min    2700.000000    0.000000    0.000000  \n",
       "25%    3550.000000    0.000000    0.000000  \n",
       "50%    4050.000000    1.000000    1.000000  \n",
       "75%    4750.000000    1.000000    2.000000  \n",
       "max    6300.000000    1.000000    2.000000  "
      ]
     },
     "execution_count": 71,
     "metadata": {},
     "output_type": "execute_result"
    }
   ],
   "source": [
    "from sklearn.preprocessing import LabelEncoder\n",
    "\n",
    "df_encoded = new_df.copy()\n",
    "le = LabelEncoder()\n",
    "\n",
    "df_encoded['island'] = le.fit_transform(new_df['island'])\n",
    "df_encoded['sex'] = le.fit_transform(new_df['sex'])\n",
    "df_encoded['species'] = le.fit_transform(new_df['species'])\n",
    "df_encoded.describe()"
   ]
  },
  {
   "cell_type": "markdown",
   "id": "77acf2fa-8ac5-4033-bca5-785a6c421750",
   "metadata": {
    "tags": []
   },
   "source": [
    "## Q5"
   ]
  },
  {
   "cell_type": "markdown",
   "id": "1096b1bc-5570-4f37-a2cd-2267a073ce1e",
   "metadata": {
    "tags": []
   },
   "source": [
    "<div style=\"direction:rtl\"> \n",
    "    \n",
    "Data augmentation یکی از روش‌های مهم در بین‌یابی داده‌ها است که معمولا در کاربردهای یادگیری عمیق استفاده می‌شود. هدف از استفاده از این روش افزایش تنوع داده‌های آموزشی است، به طوری که مدل با تعداد بیشتری داده‌ها آموزش ببیند و در نتیجه عملکرد بهتری داشته باشد.\n",
    "روش‌های مختلفی برای داده augmentation وجود دارد، از جمله:\n",
    "    \n",
    "•\tچرخش: چرخش تصویر به اندازه‌های مختلف برای افزایش تنوع داده‌ها استفاده می‌شود.\n",
    "    \n",
    "•\tبرش: در این روش بخش‌های تصویر برش می‌خورند تا تصویر به شکل‌های مختلفی ظاهر شود.\n",
    "    \n",
    "•\tانعکاس: در این روش تصویر به صورت انعکاس شده نمایش داده می‌شود.\n",
    "    \n",
    "•\tتغییر اندازه: اندازه تصویر به صورت تصادفی تغییر می‌کند.\n",
    "    \n",
    "•\tتغییر رنگ: در این روش تغییراتی در رنگ‌های تصویر ایجاد می‌شود.\n",
    "    \n",
    "افزایش داده های صوتی\n",
    "افزودن نویز: برای بهبود عملکرد مدل، می‌توانید نویز گاوسی یا تصادفی را به مجموعه داده صوتی اضافه کنید.\n",
    "\n",
    "جابجایی: با جابجایی صدا به چپ (سریع به جلو) یا راست با ثانیه‌های تصادفی، می‌توانید داده های جدیدی را ایجاد کنید.\n",
    "\n",
    "تغییر سرعت: با افزایش نرخ نمونه‌برداری سری های زمانی، می‌توانید داده های جدیدی را ایجاد کنید.\n",
    "\n",
    "تغییر زیر و بم: با تغییر زیر و بم صدا به صورت تصادفی، می‌توانید داده های جدیدی را ایجاد کنید.\n",
    "\n",
    "افزایش داده های متنی\n",
    "تغییر کلمه یا جمله: با تغییر تصادفی موقعیت یک کلمه یا جمله، می‌توانید داده های جدیدی را ایجاد کنید.\n",
    "\n",
    "جایگزینی کلمه: با جایگزینی کلمات با مترادف، می‌توانید داده های جدیدی را ایجاد کنید.\n",
    "\n",
    "دستکاری درخت نحو: با بازنویسی جمله با استفاده از همان کلمات، می‌توانید داده های جدیدی را ایجاد کنید.\n",
    "\n",
    "درج کلمه تصادفی: با درج کلمات به صورت تصادفی، می‌توانید داده های جدیدی را ایجاد کنید.\n",
    "\n",
    "حذف تصادفی کلمه: با حذف کلمات به صورت تصادفی، می‌توانید داده های جدیدی را ایجاد کنید.\n",
    "    \n",
    "    \n",
    "یک دلیل اولیه برای استفاده نکردن از افزایش داده در داده های آزمون، ارزیابی واقع بینانه مدل است. برای بررسی نحوه رفتار مدل ما روی داده‌های دیده نشده، نمونه‌های آزمایشی باید از همان توزیع‌هایی که در برنامه‌های دنیای واقعی خود انتظار داریم، تهیه شوند.\n",
    " تکنیک‌های افزایش داده‌ها ممکن است توزیع داده‌های آزمون را مخدوش کرده و نتایج را منحرف کند. به عنوان مثال، فرض کنید وظیفه ما ایجاد مدلی برای تشخیص چهره بدون توجه به جهت تصویر است. اما، مجموعه داده ما با تنها چند صد نمونه بسیار کوچک است. همچنین تمامی عکس ها تنها در یک موقعیت و جهت گرفته شده اند.\n",
    "ما فقط در مرحله آموزش می توانیم افزایش داده را انجام دهیم. اما، در آن صورت، مدل خود را برای برنامه مورد نظر خود که می تواند شامل تصاویر چرخانده شده باشد، به طور دقیق ارزیابی نمی کنیم.\n",
    "    تقویت داده ها تنها در مجموعه آموزشی انجام می شود، زیرا این کار به بهبود دقت و عملکرد مدل در مجموعه آموزشی کمک می کند. با این حال، افزایش داده ها در مجموعه تست، هیچ ارزشی ندارد، زیرا این ممکن است باعث شود که مدل پیچیده تر شود و عملکرد آن در مجموعه تست بهتر نشود. هدف اصلی تقویت داده ها، افزایش قابلیت تعمیم مدل است که تنها با افزایش داده های آموزشی قابل دستیابی است.\n",
    "    \n",
    "</div>"
   ]
  },
  {
   "cell_type": "markdown",
   "id": "a51c4096-f3f4-4b52-acc6-8acb32ad10c3",
   "metadata": {},
   "source": [
    "## Q6"
   ]
  },
  {
   "cell_type": "markdown",
   "id": "adb5ac46",
   "metadata": {},
   "source": [
    "<div style=\"direction:rtl\"> \n",
    "Upsampling و Downsampling دو روش اصلی در بین‌یابی داده هستند که هر دو در پردازش تصویر و Upsampling\n",
    "در upsampling اندازه تصویر با استفاده از روش‌های مختلفی افزایش داده می‌شود، به طوری که تصویر نهایی از اندازه بزرگتری نسبت به تصویر اولیه برخوردار است. یکی از روش‌های پر استفاده برای upsampling در یادگیری عمیق، استفاده از transpose convolution یا deconvolution است. در این روش، با استفاده از یک فیلتر یا kernel با ابعاد بزرگتر از 1، تصویر ابتدایی به اندازه بزرگتری تغییر اندازه می‌یابد.\n",
    "Downsampling\n",
    "در downsampling اندازه تصویر کاهش داده می‌شود. یکی از روش‌های پر استفاده برای downsampling در یادگیری عمیق، استفاده از pooling است. در این روش، با استفاده از یک kernel با ابعاد بزرگتر از 1، مقداری از تصویر را انتخاب می‌کنیم و به عنوان مقدار تصویر خروجی استفاده می‌کنیم. روش‌های دیگری مانند stride convolution و max-pooling نیز در downsampling استفاده می‌شوند.\n",
    "ترکیبی:\n",
    "روش‌های ترکیبی شامل ترکیب upsampling و downsampling با هم در یک شبکه عصبی هستند. این روش‌ها در یادگیری عمیق و پردازش تصویر بسیار موثر هستند و به طور کلی می‌توانند به صورت زنجیری به صورت کلی برای تشخیص و شناسایی الگوها در تصاویر استفاده شوند.\n",
    "\n",
    "</div> "
   ]
  },
  {
   "cell_type": "markdown",
   "id": "7e23f27e-3e9c-4807-a3f0-3fc9cd9d7fce",
   "metadata": {},
   "source": [
    "<div style=\"direction:rtl\"> \n",
    "روش آپ سمپلینگ به این صورت است که نمونه های مرتبط با کلاس اقلیت در مجموعه داده به صورت تصادفی تولید می شوند و به مجموعه داده اصلی اضافه می شوند. با این کار، تعداد نمونه های هر دو کلاس به صورت تقریباً یکسان می شود. این روش مانع از گرایش مدل به سمت کلاس اکثریت می شود و بهبود عملکرد مدل را به همراه دارد. علاوه بر این، افزایش تعداد نمونه های کلاس اقلیت باعث تعیین مجدد خط مرزی بین دو کلاس خواهد شد. همچنین، با اضافه کردن داده های اضافی، سیستم به اطلاعات بیشتری دسترسی خواهد داشت که بهبود کیفیت پیش بینی ها را نیز به همراه خواهد داشت.\n",
    "</div>"
   ]
  },
  {
   "cell_type": "markdown",
   "id": "5ab0f61b-12e8-476e-b06c-05f4472dc033",
   "metadata": {},
   "source": [
    "<div style=\"direction:rtl\">\n",
    "پایین‌نمونه‌گیری یک روش برای کاهش تعداد نمونه‌های آموزشی در طبقه اکثریت است. این روش به افزایش تعداد دسته‌های هدف کمک می‌کند. با این حال، با حذف داده‌های جمع‌آوری‌شده، ممکن است اطلاعات ارزشمندی را از دست بدهیم.\n",
    "</div>"
   ]
  },
  {
   "cell_type": "markdown",
   "id": "5c81ae98-509d-40d6-ad82-f0039b7d2251",
   "metadata": {},
   "source": [
    "## Q7"
   ]
  },
  {
   "cell_type": "markdown",
   "id": "d4f43c05-90aa-4418-9f06-e2753284321c",
   "metadata": {},
   "source": [
    "### ‫‪Smoteenn‬‬"
   ]
  },
  {
   "cell_type": "markdown",
   "id": "eaa8cc81-c517-4fa6-b1c5-7fbf71add3fd",
   "metadata": {
    "tags": []
   },
   "source": [
    "<div style=\"direction:rtl\"> \n",
    "Translation is too long to be saved\n",
    "SMOTEENN (SMOTE plus Edited Nearest Neighbors) یکی دیگر از روش‌های ترکیبی بیش‌نمونه‌برداری و کم‌نمونه‌سازی است که برای رسیدگی به مشکل عدم تعادل کلاس در طبقه‌بندی باینری استفاده می‌شود. الگوریتم SMOTEENN الگوریتم های SMOTE (تکنیک نمونه برداری بیش از حد اقلیت مصنوعی) و ENN (ویرایش نزدیکترین همسایگان) را ترکیب می کند.\n",
    "\n",
    "\n",
    "1. (شروع SMOTE) داده های تصادفی را از کلاس اقلیت انتخاب کنید.\n",
    "2. فاصله بین داده های تصادفی و k نزدیکترین همسایه های آن را محاسبه کنید.\n",
    "3. اختلاف را با یک عدد تصادفی بین 0 و 1 ضرب کنید، سپس نتیجه را به عنوان نمونه مصنوعی به کلاس اقلیت اضافه کنید.\n",
    "4. مرحله شماره 2-3 را تا زمانی که نسبت مورد نظر طبقه اقلیت برآورده شود، تکرار کنید. (پایان SMOTE)\n",
    "5. (شروع ENN) K را به عنوان تعداد نزدیکترین همسایگان تعیین کنید. اگر تعیین نشد، K=3.\n",
    "6. نزدیکترین همسایه K مشاهده را در میان مشاهدات دیگر در مجموعه داده پیدا کنید، سپس کلاس اکثریت را از K-نزدیکترین همسایه برگردانید.\n",
    "7. اگر کلاس مشاهده و کلاس اکثریت از K-نزدیک ترین همسایه مشاهده متفاوت باشد، مشاهده و K-نزدیک ترین همسایه آن از مجموعه داده حذف می شود.\n",
    "8. مراحل 2 و 3 را تکرار کنید تا نسبت مورد نظر هر کلاس برآورده شود. (پایان ENN)"
   ]
  },
  {
   "cell_type": "markdown",
   "id": "06ac859c",
   "metadata": {},
   "source": [
    "### SMOTETomek"
   ]
  },
  {
   "cell_type": "markdown",
   "id": "fef497f8",
   "metadata": {},
   "source": [
    "<div style=\"direction:rtl\"> \n",
    "SMOTEtomek یک روش نمونه برداری بیش از حد است که الگوریتم SMOTE و روش پیوندهای Tomek را ترکیب می کند. هدف SMOTEtomek رسیدگی به مشکل عدم تعادل کلاس در طبقه بندی باینری با ایجاد نمونه های مصنوعی جدید برای کلاس اقلیت و حذف برخی از نمونه ها از کلاس اکثریت است.\n",
    "الگوریتم SMOTEtomek به روش زیر عمل می کند:\n",
    "\n",
    "1. (شروع SMOTE) داده های تصادفی را از کلاس اقلیت انتخاب کنید.\n",
    "2. فاصله بین داده های تصادفی و k نزدیکترین همسایه های آن را محاسبه کنید.\n",
    "3. اختلاف را با یک عدد تصادفی بین 0 و 1 ضرب کنید، سپس نتیجه را به عنوان نمونه مصنوعی به کلاس اقلیت اضافه کنید.\n",
    "4. مرحله شماره 2-3 را تا زمانی که نسبت مورد نظر طبقه اقلیت برآورده شود، تکرار کنید. (پایان SMOTE)\n",
    "5. (شروع پیوندهای Tomek) داده های تصادفی را از کلاس اکثریت انتخاب کنید.\n",
    "6. اگر نزدیکترین همسایه داده های تصادفی، داده های کلاس اقلیت است (یعنی ایجاد پیوند Tomek)، سپس پیوند Tomek را حذف کنید. "
   ]
  },
  {
   "cell_type": "markdown",
   "id": "5d1a2d6a",
   "metadata": {},
   "source": [
    "<div style=\"direction:rtl\"> \n",
    " SMOTEENN و SMOTEtomek دو تکنیکی هستند که برای حل مشکل عدم تعادل کلاس در مسائل طبقه بندی باینری با ترکیب روش های نمونه برداری بیش از حد و نمونه برداری کم استفاده می شوند. هر دو روش ابتدا برای حذف نمونه‌های کلاس اکثریت از نمونه‌برداری کم استفاده می‌کنند (مثلاً نمونه‌های کلاس اقلیت را نگه می‌دارند و نمونه‌های کلاس اکثریت را حذف می‌کنند)، و سپس نمونه‌های کلاس اقلیت مصنوعی جدید را با استفاده از یک روش نمونه‌برداری بیش از حد مانند SMOTE تولید می‌کنند.\n",
    "\n",
    "شباهت اصلی بین SMOTEENN و SMOTEtomek این است که هر دو از ترکیبی از تکنیک‌های نمونه‌برداری کم و بیش‌نمونه‌سازی برای رفع عدم تعادل کلاس استفاده می‌کنند. علاوه بر این، هدف هر دو حذف نمونه های پر سر و صدا تولید شده توسط روش نمونه برداری بیش از حد است. SMOTEENN نمونه‌های پر سر و صدا را با استفاده از یک مرحله کم‌نمونه‌گیری اضافی پس از تولید نمونه‌های مصنوعی حذف می‌کند، در حالی که SMOTETomek با استفاده از یک قانون تمیز کردن که پیوندهای Tomek و SMOTE را ترکیب می‌کند، نمونه‌های پر سر و صدا را حذف می‌کند.\n",
    "\n",
    "با این حال، تفاوت هایی بین این دو روش وجود دارد. SMOTEENN روش های SMOTE و Edited Nearest Neighbor (ENN) را ترکیب می کند، در حالی که SMOTEtomek روش های پیوند SMOTE و Tomek را ترکیب می کند. روش ENN برای حذف هر گونه نمونه طبقه بندی نادرست که ممکن است توسط روش نمونه برداری بیش از حد SMOTE تولید شده باشد استفاده می شود. از طرف دیگر، روش پیوند Tomek، نمونه هایی را که بخشی از پیوند Tomek هستند، شناسایی و حذف می کند، که جفت نمونه هایی از کلاس های مختلف هستند که نزدیک ترین آنها به یکدیگر هستند. تفاوت دیگر این است که SMOTEENN ممکن است مجموعه داده های متعادل تری تولید کند، در حالی که SMOTEtomek ممکن است نمونه های کمتر اما آموزنده تری تولید کند.\n",
    "روش ترکیبی با افزایش و کاهش اندازه به دو مرحله تقسیم می‌شود. در مرحله اول، نرخ نمونه‌برداری برای سیگنال ورودی با نرخ نمونه‌برداری بالا کاهش داده می‌شود تا به نرخ نمونه‌برداری کمتری برسد. در مرحله دوم، پردازشی روی سیگنال کاهش یافته اعمال می‌شود. در نهایت، سیگنال پردازش شده با نرخ نمونه‌برداری اولیه دوباره بزرگ شده و بازیابی می‌شود.\n",
    "در روش‌های SMOTETomek و SMOTEENN نیز از ترکیب دو روش oversampling و undersampling برای مقابله با مشکل ایجاد تعادل در داده‌های دوتایی استفاده می‌شود. در ابتدا، روش undersampling برای حذف نمونه‌های اکثریتی (مثلا نمونه‌های اقلیتی را حفظ می‌کنند و نمونه‌های اکثریتی را حذف می‌کنند) اعمال می‌شود. سپس با استفاده از روش oversampling (مثلا SMOTE)، نمونه‌های اقلیتی جدیدی ایجاد می‌شوند.\n",
    " </div>"
   ]
  },
  {
   "cell_type": "markdown",
   "id": "00dd1917-7321-4fa7-9669-80d5ef8057b4",
   "metadata": {},
   "source": [
    "## Q8"
   ]
  },
  {
   "cell_type": "code",
   "execution_count": 72,
   "id": "1a49e794-a38b-4981-bc04-1a8c8c08f04f",
   "metadata": {
    "tags": []
   },
   "outputs": [],
   "source": [
    "import seaborn as sns"
   ]
  },
  {
   "cell_type": "code",
   "execution_count": 73,
   "id": "4afe53f6-15d8-4ab2-9d8d-5e305230fcaf",
   "metadata": {
    "tags": []
   },
   "outputs": [
    {
     "data": {
      "text/plain": [
       "<AxesSubplot:xlabel='species', ylabel='count'>"
      ]
     },
     "execution_count": 73,
     "metadata": {},
     "output_type": "execute_result"
    },
    {
     "data": {
      "image/png": "[encoded data removed]",
      "text/plain": [
       "<Figure size 432x288 with 1 Axes>"
      ]
     },
     "metadata": {
      "needs_background": "light"
     },
     "output_type": "display_data"
    }
   ],
   "source": [
    "df_tobe_aug = df_encoded.copy()\n",
    "sns.countplot(x='species', data=new_df)"
   ]
  },
  {
   "cell_type": "code",
   "execution_count": 74,
   "id": "f455a1f4-48de-47d1-b3b0-473e06d27306",
   "metadata": {
    "tags": []
   },
   "outputs": [
    {
     "data": {
      "text/plain": [
       "<AxesSubplot:xlabel='island', ylabel='count'>"
      ]
     },
     "execution_count": 74,
     "metadata": {},
     "output_type": "execute_result"
    },
    {
     "data": {
      "image/png": "[encoded data removed]",
      "text/plain": [
       "<Figure size 432x288 with 1 Axes>"
      ]
     },
     "metadata": {
      "needs_background": "light"
     },
     "output_type": "display_data"
    }
   ],
   "source": [
    "df_tobe_aug = new_df.drop(transformed_data_frame[transformed_data_frame['species'] == 0].sample(frac=.9).index)\n",
    "\n",
    "sns.countplot(x='island', data=df_tobe_aug)"
   ]
  },
  {
   "cell_type": "markdown",
   "id": "345cb698-fca0-4d10-9cfd-6ed2843471ca",
   "metadata": {},
   "source": [
    "### SMOTETomek"
   ]
  },
  {
   "cell_type": "code",
   "execution_count": 75,
   "id": "743c70c4-f877-489d-b1f6-e09e06017484",
   "metadata": {
    "tags": []
   },
   "outputs": [],
   "source": [
    "from imblearn.combine import SMOTETomek\n",
    "\n",
    "smt = SMOTETomek(random_state=42)\n",
    "X_res, y_res = smt.fit_resample(df_tobe_aug[numeric_columns], df_tobe_aug['species'])\n",
    "new_x = pd.DataFrame(X_res, columns=new_df.columns[:-1])\n",
    "new_y = pd.DataFrame(y_res, columns=['species'])\n",
    "df_aug_1 = pd.concat([new_x, new_y], axis = 1)"
   ]
  },
  {
   "cell_type": "code",
   "execution_count": 76,
   "id": "73ca54b7-e4a8-48dc-8502-6c9a39908196",
   "metadata": {
    "tags": []
   },
   "outputs": [
    {
     "data": {
      "text/plain": [
       "<AxesSubplot:xlabel='species', ylabel='count'>"
      ]
     },
     "execution_count": 76,
     "metadata": {},
     "output_type": "execute_result"
    },
    {
     "data": {
      "image/png": "[encoded data removed]",
      "text/plain": [
       "<Figure size 432x288 with 1 Axes>"
      ]
     },
     "metadata": {
      "needs_background": "light"
     },
     "output_type": "display_data"
    }
   ],
   "source": [
    "sns.countplot(x=df_aug_1['species'], data=df_aug_1)"
   ]
  },
  {
   "cell_type": "markdown",
   "id": "af3f74fc-33f7-4a71-9674-11bdd3857b1b",
   "metadata": {},
   "source": [
    "### ‫‪Smoteenn‬‬"
   ]
  },
  {
   "cell_type": "code",
   "execution_count": 77,
   "id": "b1500430-4e18-470e-9501-1b1ce78de589",
   "metadata": {
    "tags": []
   },
   "outputs": [
    {
     "data": {
      "text/plain": [
       "<AxesSubplot:xlabel='species', ylabel='count'>"
      ]
     },
     "execution_count": 77,
     "metadata": {},
     "output_type": "execute_result"
    },
    {
     "data": {
      "image/png": "[encoded data removed]",
      "text/plain": [
       "<Figure size 432x288 with 1 Axes>"
      ]
     },
     "metadata": {
      "needs_background": "light"
     },
     "output_type": "display_data"
    }
   ],
   "source": [
    "from imblearn.combine import SMOTEENN\n",
    "\n",
    "smote_enn = SMOTEENN(random_state=42)\n",
    "X_res, y_res = smote_enn.fit_resample(df_tobe_aug[numeric_columns], df_tobe_aug['species'])\n",
    "\n",
    "sns.countplot(x=y_res)"
   ]
  },
  {
   "cell_type": "markdown",
   "id": "dca11214-8b2a-43b3-96e8-d1a1bf44c635",
   "metadata": {},
   "source": [
    "## Q9"
   ]
  },
  {
   "cell_type": "code",
   "execution_count": 78,
   "id": "7cf333d3-5312-4bf1-881c-aa1add659d7a",
   "metadata": {
    "tags": []
   },
   "outputs": [
    {
     "data": {
      "text/html": [
       "<div>\n",
       "<style scoped>\n",
       "    .dataframe tbody tr th:only-of-type {\n",
       "        vertical-align: middle;\n",
       "    }\n",
       "\n",
       "    .dataframe tbody tr th {\n",
       "        vertical-align: top;\n",
       "    }\n",
       "\n",
       "    .dataframe thead th {\n",
       "        text-align: right;\n",
       "    }\n",
       "</style>\n",
       "<table border=\"1\" class=\"dataframe\">\n",
       "  <thead>\n",
       "    <tr style=\"text-align: right;\">\n",
       "      <th></th>\n",
       "      <th>island</th>\n",
       "      <th>bill_length_mm</th>\n",
       "      <th>bill_depth_mm</th>\n",
       "      <th>flipper_length_mm</th>\n",
       "      <th>body_mass_g</th>\n",
       "      <th>sex</th>\n",
       "      <th>species</th>\n",
       "    </tr>\n",
       "  </thead>\n",
       "  <tbody>\n",
       "    <tr>\n",
       "      <th>count</th>\n",
       "      <td>344.000000</td>\n",
       "      <td>344.000000</td>\n",
       "      <td>344.000000</td>\n",
       "      <td>344.000000</td>\n",
       "      <td>344.000000</td>\n",
       "      <td>344.000000</td>\n",
       "      <td>344.000000</td>\n",
       "    </tr>\n",
       "    <tr>\n",
       "      <th>mean</th>\n",
       "      <td>0.662791</td>\n",
       "      <td>43.921930</td>\n",
       "      <td>17.151170</td>\n",
       "      <td>200.915205</td>\n",
       "      <td>4201.754386</td>\n",
       "      <td>0.520349</td>\n",
       "      <td>0.918605</td>\n",
       "    </tr>\n",
       "    <tr>\n",
       "      <th>std</th>\n",
       "      <td>0.726194</td>\n",
       "      <td>5.443643</td>\n",
       "      <td>1.969027</td>\n",
       "      <td>14.020657</td>\n",
       "      <td>799.613058</td>\n",
       "      <td>0.500313</td>\n",
       "      <td>0.893320</td>\n",
       "    </tr>\n",
       "    <tr>\n",
       "      <th>min</th>\n",
       "      <td>0.000000</td>\n",
       "      <td>32.100000</td>\n",
       "      <td>13.100000</td>\n",
       "      <td>172.000000</td>\n",
       "      <td>2700.000000</td>\n",
       "      <td>0.000000</td>\n",
       "      <td>0.000000</td>\n",
       "    </tr>\n",
       "    <tr>\n",
       "      <th>25%</th>\n",
       "      <td>0.000000</td>\n",
       "      <td>39.275000</td>\n",
       "      <td>15.600000</td>\n",
       "      <td>190.000000</td>\n",
       "      <td>3550.000000</td>\n",
       "      <td>0.000000</td>\n",
       "      <td>0.000000</td>\n",
       "    </tr>\n",
       "    <tr>\n",
       "      <th>50%</th>\n",
       "      <td>1.000000</td>\n",
       "      <td>44.250000</td>\n",
       "      <td>17.300000</td>\n",
       "      <td>197.000000</td>\n",
       "      <td>4050.000000</td>\n",
       "      <td>1.000000</td>\n",
       "      <td>1.000000</td>\n",
       "    </tr>\n",
       "    <tr>\n",
       "      <th>75%</th>\n",
       "      <td>1.000000</td>\n",
       "      <td>48.500000</td>\n",
       "      <td>18.700000</td>\n",
       "      <td>213.000000</td>\n",
       "      <td>4750.000000</td>\n",
       "      <td>1.000000</td>\n",
       "      <td>2.000000</td>\n",
       "    </tr>\n",
       "    <tr>\n",
       "      <th>max</th>\n",
       "      <td>2.000000</td>\n",
       "      <td>59.600000</td>\n",
       "      <td>21.500000</td>\n",
       "      <td>231.000000</td>\n",
       "      <td>6300.000000</td>\n",
       "      <td>1.000000</td>\n",
       "      <td>2.000000</td>\n",
       "    </tr>\n",
       "  </tbody>\n",
       "</table>\n",
       "</div>"
      ],
      "text/plain": [
       "           island  bill_length_mm  bill_depth_mm  flipper_length_mm  \\\n",
       "count  344.000000      344.000000     344.000000         344.000000   \n",
       "mean     0.662791       43.921930      17.151170         200.915205   \n",
       "std      0.726194        5.443643       1.969027          14.020657   \n",
       "min      0.000000       32.100000      13.100000         172.000000   \n",
       "25%      0.000000       39.275000      15.600000         190.000000   \n",
       "50%      1.000000       44.250000      17.300000         197.000000   \n",
       "75%      1.000000       48.500000      18.700000         213.000000   \n",
       "max      2.000000       59.600000      21.500000         231.000000   \n",
       "\n",
       "       body_mass_g         sex     species  \n",
       "count   344.000000  344.000000  344.000000  \n",
       "mean   4201.754386    0.520349    0.918605  \n",
       "std     799.613058    0.500313    0.893320  \n",
       "min    2700.000000    0.000000    0.000000  \n",
       "25%    3550.000000    0.000000    0.000000  \n",
       "50%    4050.000000    1.000000    1.000000  \n",
       "75%    4750.000000    1.000000    2.000000  \n",
       "max    6300.000000    1.000000    2.000000  "
      ]
     },
     "execution_count": 78,
     "metadata": {},
     "output_type": "execute_result"
    }
   ],
   "source": [
    "df_encoded.describe()"
   ]
  },
  {
   "cell_type": "code",
   "execution_count": 79,
   "id": "fcc8169c-a148-49fa-b23d-2cebf3151e17",
   "metadata": {
    "tags": []
   },
   "outputs": [
    {
     "name": "stdout",
     "output_type": "stream",
     "text": [
      "Standard deviation befor normalization:\n",
      "island                    0.527358\n",
      "bill_length_mm           29.633252\n",
      "bill_depth_mm             3.877069\n",
      "flipper_length_mm       196.578837\n",
      "body_mass_g          639381.041890\n",
      "sex                       0.250314\n",
      "dtype: float64\n",
      "Mean  before normalization:\n",
      "island                  0.662791\n",
      "bill_length_mm         43.921930\n",
      "bill_depth_mm          17.151170\n",
      "flipper_length_mm     200.915205\n",
      "body_mass_g          4201.754386\n",
      "sex                     0.520349\n",
      "dtype: float64\n"
     ]
    }
   ],
   "source": [
    "# Display the standard deviation\n",
    "\n",
    "non_scaled = df_encoded.drop('species', axis=1)\n",
    "\n",
    "print(f\"Standard deviation befor normalization:\\n{non_scaled.var()}\")\n",
    "print(f\"Mean  before normalization:\\n{non_scaled.mean()}\")\n"
   ]
  },
  {
   "cell_type": "code",
   "execution_count": 80,
   "id": "09a75060-22a4-48f3-a959-2a9fcb12dc7c",
   "metadata": {
    "tags": []
   },
   "outputs": [
    {
     "name": "stdout",
     "output_type": "stream",
     "text": [
      "Standard deviation after normalization:\n",
      "island               1.002915\n",
      "bill_length_mm       1.002915\n",
      "bill_depth_mm        1.002915\n",
      "flipper_length_mm    1.002915\n",
      "body_mass_g          1.002915\n",
      "sex                  1.002915\n",
      "dtype: float64\n",
      "Mean  after normalization:\n",
      "island              -1.610469e-16\n",
      "bill_length_mm      -7.849019e-16\n",
      "bill_depth_mm        3.905145e-16\n",
      "flipper_length_mm   -4.902409e-16\n",
      "body_mass_g          1.458781e-16\n",
      "sex                 -3.872871e-17\n",
      "dtype: float64\n"
     ]
    }
   ],
   "source": [
    "from sklearn.preprocessing import StandardScaler\n",
    "\n",
    "# Create an instance of StandardScaler\n",
    "scaler = StandardScaler()\n",
    "\n",
    "# Fit and transform the input dataframe to normalized dataframe\n",
    "df_normalized = pd.DataFrame(scaler.fit_transform(df_encoded.drop('species', axis=1)), columns=df_encoded.drop('species', axis=1).columns)\n",
    "\n",
    "# Combine the normalized dataframe with the target variable\n",
    "df_normalized['species'] = df_encoded['species'] \n",
    "\n",
    "# Compute the standard deviation of the normalized dataframe\n",
    "var_normalized = df_normalized.drop('species', axis=1).var()\n",
    "mean_normalized= df_normalized.drop('species', axis=1).mean()\n",
    "\n",
    "\n",
    "# Display the standard deviation\n",
    "print(f\"Standard deviation after normalization:\\n{var_normalized}\")\n",
    "print(f\"Mean  after normalization:\\n{mean_normalized}\")"
   ]
  },
  {
   "cell_type": "code",
   "execution_count": 81,
   "id": "a77b41af-146a-4ecc-8e9c-754bb4731b69",
   "metadata": {
    "tags": []
   },
   "outputs": [
    {
     "data": {
      "text/html": [
       "<div>\n",
       "<style scoped>\n",
       "    .dataframe tbody tr th:only-of-type {\n",
       "        vertical-align: middle;\n",
       "    }\n",
       "\n",
       "    .dataframe tbody tr th {\n",
       "        vertical-align: top;\n",
       "    }\n",
       "\n",
       "    .dataframe thead th {\n",
       "        text-align: right;\n",
       "    }\n",
       "</style>\n",
       "<table border=\"1\" class=\"dataframe\">\n",
       "  <thead>\n",
       "    <tr style=\"text-align: right;\">\n",
       "      <th></th>\n",
       "      <th>island</th>\n",
       "      <th>bill_length_mm</th>\n",
       "      <th>bill_depth_mm</th>\n",
       "      <th>flipper_length_mm</th>\n",
       "      <th>body_mass_g</th>\n",
       "      <th>sex</th>\n",
       "      <th>species</th>\n",
       "    </tr>\n",
       "  </thead>\n",
       "  <tbody>\n",
       "    <tr>\n",
       "      <th>count</th>\n",
       "      <td>3.440000e+02</td>\n",
       "      <td>3.440000e+02</td>\n",
       "      <td>3.440000e+02</td>\n",
       "      <td>3.440000e+02</td>\n",
       "      <td>3.440000e+02</td>\n",
       "      <td>3.440000e+02</td>\n",
       "      <td>344.000000</td>\n",
       "    </tr>\n",
       "    <tr>\n",
       "      <th>mean</th>\n",
       "      <td>-1.610469e-16</td>\n",
       "      <td>-7.849019e-16</td>\n",
       "      <td>3.905145e-16</td>\n",
       "      <td>-4.902409e-16</td>\n",
       "      <td>1.458781e-16</td>\n",
       "      <td>-3.872871e-17</td>\n",
       "      <td>0.918605</td>\n",
       "    </tr>\n",
       "    <tr>\n",
       "      <th>std</th>\n",
       "      <td>1.001457e+00</td>\n",
       "      <td>1.001457e+00</td>\n",
       "      <td>1.001457e+00</td>\n",
       "      <td>1.001457e+00</td>\n",
       "      <td>1.001457e+00</td>\n",
       "      <td>1.001457e+00</td>\n",
       "      <td>0.893320</td>\n",
       "    </tr>\n",
       "    <tr>\n",
       "      <th>min</th>\n",
       "      <td>-9.140204e-01</td>\n",
       "      <td>-2.174858e+00</td>\n",
       "      <td>-2.060444e+00</td>\n",
       "      <td>-2.065333e+00</td>\n",
       "      <td>-1.880837e+00</td>\n",
       "      <td>-1.041561e+00</td>\n",
       "      <td>0.000000</td>\n",
       "    </tr>\n",
       "    <tr>\n",
       "      <th>25%</th>\n",
       "      <td>-9.140204e-01</td>\n",
       "      <td>-8.548868e-01</td>\n",
       "      <td>-7.889322e-01</td>\n",
       "      <td>-7.796428e-01</td>\n",
       "      <td>-8.162745e-01</td>\n",
       "      <td>-1.041561e+00</td>\n",
       "      <td>0.000000</td>\n",
       "    </tr>\n",
       "    <tr>\n",
       "      <th>50%</th>\n",
       "      <td>4.650279e-01</td>\n",
       "      <td>6.035444e-02</td>\n",
       "      <td>7.569585e-02</td>\n",
       "      <td>-2.796522e-01</td>\n",
       "      <td>-1.900612e-01</td>\n",
       "      <td>9.600978e-01</td>\n",
       "      <td>1.000000</td>\n",
       "    </tr>\n",
       "    <tr>\n",
       "      <th>75%</th>\n",
       "      <td>4.650279e-01</td>\n",
       "      <td>8.422188e-01</td>\n",
       "      <td>7.877425e-01</td>\n",
       "      <td>8.631834e-01</td>\n",
       "      <td>6.866374e-01</td>\n",
       "      <td>9.600978e-01</td>\n",
       "      <td>2.000000</td>\n",
       "    </tr>\n",
       "    <tr>\n",
       "      <th>max</th>\n",
       "      <td>1.844076e+00</td>\n",
       "      <td>2.884265e+00</td>\n",
       "      <td>2.211836e+00</td>\n",
       "      <td>2.148873e+00</td>\n",
       "      <td>2.627899e+00</td>\n",
       "      <td>9.600978e-01</td>\n",
       "      <td>2.000000</td>\n",
       "    </tr>\n",
       "  </tbody>\n",
       "</table>\n",
       "</div>"
      ],
      "text/plain": [
       "             island  bill_length_mm  bill_depth_mm  flipper_length_mm  \\\n",
       "count  3.440000e+02    3.440000e+02   3.440000e+02       3.440000e+02   \n",
       "mean  -1.610469e-16   -7.849019e-16   3.905145e-16      -4.902409e-16   \n",
       "std    1.001457e+00    1.001457e+00   1.001457e+00       1.001457e+00   \n",
       "min   -9.140204e-01   -2.174858e+00  -2.060444e+00      -2.065333e+00   \n",
       "25%   -9.140204e-01   -8.548868e-01  -7.889322e-01      -7.796428e-01   \n",
       "50%    4.650279e-01    6.035444e-02   7.569585e-02      -2.796522e-01   \n",
       "75%    4.650279e-01    8.422188e-01   7.877425e-01       8.631834e-01   \n",
       "max    1.844076e+00    2.884265e+00   2.211836e+00       2.148873e+00   \n",
       "\n",
       "        body_mass_g           sex     species  \n",
       "count  3.440000e+02  3.440000e+02  344.000000  \n",
       "mean   1.458781e-16 -3.872871e-17    0.918605  \n",
       "std    1.001457e+00  1.001457e+00    0.893320  \n",
       "min   -1.880837e+00 -1.041561e+00    0.000000  \n",
       "25%   -8.162745e-01 -1.041561e+00    0.000000  \n",
       "50%   -1.900612e-01  9.600978e-01    1.000000  \n",
       "75%    6.866374e-01  9.600978e-01    2.000000  \n",
       "max    2.627899e+00  9.600978e-01    2.000000  "
      ]
     },
     "execution_count": 81,
     "metadata": {},
     "output_type": "execute_result"
    }
   ],
   "source": [
    "df_normalized.describe()"
   ]
  },
  {
   "cell_type": "markdown",
   "id": "c6e980df-3272-4cba-b3d8-74f912d76afa",
   "metadata": {},
   "source": [
    "## Q10"
   ]
  },
  {
   "cell_type": "code",
   "execution_count": 82,
   "id": "054b9d28-0b3e-4089-919b-544267495510",
   "metadata": {
    "tags": []
   },
   "outputs": [
    {
     "data": {
      "text/html": [
       "<style>#sk-container-id-1 {color: black;background-color: white;}#sk-container-id-1 pre{padding: 0;}#sk-container-id-1 div.sk-toggleable {background-color: white;}#sk-container-id-1 label.sk-toggleable__label {cursor: pointer;display: block;width: 100%;margin-bottom: 0;padding: 0.3em;box-sizing: border-box;text-align: center;}#sk-container-id-1 label.sk-toggleable__label-arrow:before {content: \"▸\";float: left;margin-right: 0.25em;color: #696969;}#sk-container-id-1 label.sk-toggleable__label-arrow:hover:before {color: black;}#sk-container-id-1 div.sk-estimator:hover label.sk-toggleable__label-arrow:before {color: black;}#sk-container-id-1 div.sk-toggleable__content {max-height: 0;max-width: 0;overflow: hidden;text-align: left;background-color: #f0f8ff;}#sk-container-id-1 div.sk-toggleable__content pre {margin: 0.2em;color: black;border-radius: 0.25em;background-color: #f0f8ff;}#sk-container-id-1 input.sk-toggleable__control:checked~div.sk-toggleable__content {max-height: 200px;max-width: 100%;overflow: auto;}#sk-container-id-1 input.sk-toggleable__control:checked~label.sk-toggleable__label-arrow:before {content: \"▾\";}#sk-container-id-1 div.sk-estimator input.sk-toggleable__control:checked~label.sk-toggleable__label {background-color: #d4ebff;}#sk-container-id-1 div.sk-label input.sk-toggleable__control:checked~label.sk-toggleable__label {background-color: #d4ebff;}#sk-container-id-1 input.sk-hidden--visually {border: 0;clip: rect(1px 1px 1px 1px);clip: rect(1px, 1px, 1px, 1px);height: 1px;margin: -1px;overflow: hidden;padding: 0;position: absolute;width: 1px;}#sk-container-id-1 div.sk-estimator {font-family: monospace;background-color: #f0f8ff;border: 1px dotted black;border-radius: 0.25em;box-sizing: border-box;margin-bottom: 0.5em;}#sk-container-id-1 div.sk-estimator:hover {background-color: #d4ebff;}#sk-container-id-1 div.sk-parallel-item::after {content: \"\";width: 100%;border-bottom: 1px solid gray;flex-grow: 1;}#sk-container-id-1 div.sk-label:hover label.sk-toggleable__label {background-color: #d4ebff;}#sk-container-id-1 div.sk-serial::before {content: \"\";position: absolute;border-left: 1px solid gray;box-sizing: border-box;top: 0;bottom: 0;left: 50%;z-index: 0;}#sk-container-id-1 div.sk-serial {display: flex;flex-direction: column;align-items: center;background-color: white;padding-right: 0.2em;padding-left: 0.2em;position: relative;}#sk-container-id-1 div.sk-item {position: relative;z-index: 1;}#sk-container-id-1 div.sk-parallel {display: flex;align-items: stretch;justify-content: center;background-color: white;position: relative;}#sk-container-id-1 div.sk-item::before, #sk-container-id-1 div.sk-parallel-item::before {content: \"\";position: absolute;border-left: 1px solid gray;box-sizing: border-box;top: 0;bottom: 0;left: 50%;z-index: -1;}#sk-container-id-1 div.sk-parallel-item {display: flex;flex-direction: column;z-index: 1;position: relative;background-color: white;}#sk-container-id-1 div.sk-parallel-item:first-child::after {align-self: flex-end;width: 50%;}#sk-container-id-1 div.sk-parallel-item:last-child::after {align-self: flex-start;width: 50%;}#sk-container-id-1 div.sk-parallel-item:only-child::after {width: 0;}#sk-container-id-1 div.sk-dashed-wrapped {border: 1px dashed gray;margin: 0 0.4em 0.5em 0.4em;box-sizing: border-box;padding-bottom: 0.4em;background-color: white;}#sk-container-id-1 div.sk-label label {font-family: monospace;font-weight: bold;display: inline-block;line-height: 1.2em;}#sk-container-id-1 div.sk-label-container {text-align: center;}#sk-container-id-1 div.sk-container {/* jupyter's `normalize.less` sets `[hidden] { display: none; }` but bootstrap.min.css set `[hidden] { display: none !important; }` so we also need the `!important` here to be able to override the default hidden behavior on the sphinx rendered scikit-learn.org. See: https://github.com/scikit-learn/scikit-learn/issues/21755 */display: inline-block !important;position: relative;}#sk-container-id-1 div.sk-text-repr-fallback {display: none;}</style><div id=\"sk-container-id-1\" class=\"sk-top-container\"><div class=\"sk-text-repr-fallback\"><pre>PCA(n_components=3)</pre><b>In a Jupyter environment, please rerun this cell to show the HTML representation or trust the notebook. <br />On GitHub, the HTML representation is unable to render, please try loading this page with nbviewer.org.</b></div><div class=\"sk-container\" hidden><div class=\"sk-item\"><div class=\"sk-estimator sk-toggleable\"><input class=\"sk-toggleable__control sk-hidden--visually\" id=\"sk-estimator-id-1\" type=\"checkbox\" checked><label for=\"sk-estimator-id-1\" class=\"sk-toggleable__label sk-toggleable__label-arrow\">PCA</label><div class=\"sk-toggleable__content\"><pre>PCA(n_components=3)</pre></div></div></div></div></div>"
      ],
      "text/plain": [
       "PCA(n_components=3)"
      ]
     },
     "execution_count": 82,
     "metadata": {},
     "output_type": "execute_result"
    }
   ],
   "source": [
    "from sklearn.decomposition import PCA\n",
    "\n",
    "pca = PCA(n_components=3)\n",
    "X = df_encoded.drop(columns=['species'])\n",
    "y = df_encoded['species']\n",
    "pca.fit(X)"
   ]
  },
  {
   "cell_type": "code",
   "execution_count": 83,
   "id": "215289d5",
   "metadata": {},
   "outputs": [],
   "source": [
    "X = pca.transform(X)\n",
    "df_pca = pd.DataFrame(X)"
   ]
  },
  {
   "cell_type": "code",
   "execution_count": 84,
   "id": "bf6f45d7-952d-45fb-ba34-cc96456b6874",
   "metadata": {
    "tags": []
   },
   "outputs": [
    {
     "data": {
      "text/html": [
       "<div>\n",
       "<style scoped>\n",
       "    .dataframe tbody tr th:only-of-type {\n",
       "        vertical-align: middle;\n",
       "    }\n",
       "\n",
       "    .dataframe tbody tr th {\n",
       "        vertical-align: top;\n",
       "    }\n",
       "\n",
       "    .dataframe thead th {\n",
       "        text-align: right;\n",
       "    }\n",
       "</style>\n",
       "<table border=\"1\" class=\"dataframe\">\n",
       "  <thead>\n",
       "    <tr style=\"text-align: right;\">\n",
       "      <th></th>\n",
       "      <th>island</th>\n",
       "      <th>bill_length_mm</th>\n",
       "      <th>bill_depth_mm</th>\n",
       "      <th>flipper_length_mm</th>\n",
       "      <th>body_mass_g</th>\n",
       "      <th>sex</th>\n",
       "      <th>species</th>\n",
       "    </tr>\n",
       "  </thead>\n",
       "  <tbody>\n",
       "    <tr>\n",
       "      <th>0</th>\n",
       "      <td>1.844076</td>\n",
       "      <td>-8.870812e-01</td>\n",
       "      <td>0.787743</td>\n",
       "      <td>-1.422488</td>\n",
       "      <td>-0.565789</td>\n",
       "      <td>0.960098</td>\n",
       "      <td>0</td>\n",
       "    </tr>\n",
       "    <tr>\n",
       "      <th>1</th>\n",
       "      <td>1.844076</td>\n",
       "      <td>-8.134940e-01</td>\n",
       "      <td>0.126556</td>\n",
       "      <td>-1.065352</td>\n",
       "      <td>-0.503168</td>\n",
       "      <td>-1.041561</td>\n",
       "      <td>0</td>\n",
       "    </tr>\n",
       "    <tr>\n",
       "      <th>2</th>\n",
       "      <td>1.844076</td>\n",
       "      <td>-6.663195e-01</td>\n",
       "      <td>0.431719</td>\n",
       "      <td>-0.422507</td>\n",
       "      <td>-1.192003</td>\n",
       "      <td>-1.041561</td>\n",
       "      <td>0</td>\n",
       "    </tr>\n",
       "    <tr>\n",
       "      <th>3</th>\n",
       "      <td>1.844076</td>\n",
       "      <td>-1.307172e-15</td>\n",
       "      <td>0.000000</td>\n",
       "      <td>0.000000</td>\n",
       "      <td>0.000000</td>\n",
       "      <td>0.960098</td>\n",
       "      <td>0</td>\n",
       "    </tr>\n",
       "    <tr>\n",
       "      <th>4</th>\n",
       "      <td>1.844076</td>\n",
       "      <td>-1.328605e+00</td>\n",
       "      <td>1.092905</td>\n",
       "      <td>-0.565361</td>\n",
       "      <td>-0.941517</td>\n",
       "      <td>-1.041561</td>\n",
       "      <td>0</td>\n",
       "    </tr>\n",
       "    <tr>\n",
       "      <th>...</th>\n",
       "      <td>...</td>\n",
       "      <td>...</td>\n",
       "      <td>...</td>\n",
       "      <td>...</td>\n",
       "      <td>...</td>\n",
       "      <td>...</td>\n",
       "      <td>...</td>\n",
       "    </tr>\n",
       "    <tr>\n",
       "      <th>339</th>\n",
       "      <td>0.465028</td>\n",
       "      <td>2.185186e+00</td>\n",
       "      <td>1.347208</td>\n",
       "      <td>0.434620</td>\n",
       "      <td>-0.252683</td>\n",
       "      <td>0.960098</td>\n",
       "      <td>1</td>\n",
       "    </tr>\n",
       "    <tr>\n",
       "      <th>340</th>\n",
       "      <td>0.465028</td>\n",
       "      <td>-7.762162e-02</td>\n",
       "      <td>0.482580</td>\n",
       "      <td>0.077484</td>\n",
       "      <td>-1.004139</td>\n",
       "      <td>-1.041561</td>\n",
       "      <td>1</td>\n",
       "    </tr>\n",
       "    <tr>\n",
       "      <th>341</th>\n",
       "      <td>0.465028</td>\n",
       "      <td>1.044584e+00</td>\n",
       "      <td>0.533440</td>\n",
       "      <td>-0.565361</td>\n",
       "      <td>-0.534479</td>\n",
       "      <td>0.960098</td>\n",
       "      <td>1</td>\n",
       "    </tr>\n",
       "    <tr>\n",
       "      <th>342</th>\n",
       "      <td>0.465028</td>\n",
       "      <td>1.265345e+00</td>\n",
       "      <td>0.940324</td>\n",
       "      <td>0.648902</td>\n",
       "      <td>-0.127440</td>\n",
       "      <td>0.960098</td>\n",
       "      <td>1</td>\n",
       "    </tr>\n",
       "    <tr>\n",
       "      <th>343</th>\n",
       "      <td>0.465028</td>\n",
       "      <td>1.154965e+00</td>\n",
       "      <td>0.787743</td>\n",
       "      <td>-0.208225</td>\n",
       "      <td>-0.534479</td>\n",
       "      <td>-1.041561</td>\n",
       "      <td>1</td>\n",
       "    </tr>\n",
       "  </tbody>\n",
       "</table>\n",
       "<p>344 rows × 7 columns</p>\n",
       "</div>"
      ],
      "text/plain": [
       "       island  bill_length_mm  bill_depth_mm  flipper_length_mm  body_mass_g  \\\n",
       "0    1.844076   -8.870812e-01       0.787743          -1.422488    -0.565789   \n",
       "1    1.844076   -8.134940e-01       0.126556          -1.065352    -0.503168   \n",
       "2    1.844076   -6.663195e-01       0.431719          -0.422507    -1.192003   \n",
       "3    1.844076   -1.307172e-15       0.000000           0.000000     0.000000   \n",
       "4    1.844076   -1.328605e+00       1.092905          -0.565361    -0.941517   \n",
       "..        ...             ...            ...                ...          ...   \n",
       "339  0.465028    2.185186e+00       1.347208           0.434620    -0.252683   \n",
       "340  0.465028   -7.762162e-02       0.482580           0.077484    -1.004139   \n",
       "341  0.465028    1.044584e+00       0.533440          -0.565361    -0.534479   \n",
       "342  0.465028    1.265345e+00       0.940324           0.648902    -0.127440   \n",
       "343  0.465028    1.154965e+00       0.787743          -0.208225    -0.534479   \n",
       "\n",
       "          sex  species  \n",
       "0    0.960098        0  \n",
       "1   -1.041561        0  \n",
       "2   -1.041561        0  \n",
       "3    0.960098        0  \n",
       "4   -1.041561        0  \n",
       "..        ...      ...  \n",
       "339  0.960098        1  \n",
       "340 -1.041561        1  \n",
       "341  0.960098        1  \n",
       "342  0.960098        1  \n",
       "343 -1.041561        1  \n",
       "\n",
       "[344 rows x 7 columns]"
      ]
     },
     "execution_count": 84,
     "metadata": {},
     "output_type": "execute_result"
    }
   ],
   "source": [
    "df_pca = pd.concat([df_pca, df_encoded['species']], axis = 1)\n",
    "df_normalized"
   ]
  },
  {
   "cell_type": "markdown",
   "id": "1fb8b7cd-82e2-461a-8f58-5c3d99f95113",
   "metadata": {},
   "source": [
    "## Q11"
   ]
  },
  {
   "cell_type": "code",
   "execution_count": 85,
   "id": "e2e9eceb",
   "metadata": {},
   "outputs": [
    {
     "data": {
      "image/png": "[encoded data removed]",
      "text/plain": [
       "<Figure size 1008x864 with 1 Axes>"
      ]
     },
     "metadata": {
      "needs_background": "light"
     },
     "output_type": "display_data"
    }
   ],
   "source": [
    "import matplotlib.pyplot as plt\n",
    "from mpl_toolkits.mplot3d import Axes3D\n",
    "\n",
    "fig = plt.figure(figsize=(14, 12))\n",
    "ax = fig.add_subplot(111, projection='3d',elev=40)\n",
    "ax.set_box_aspect([1,1,1])\n",
    "\n",
    "labels = {0: \"Adelie\", 1: \"Chinstrap\", 2: \"Gentoo\"}\n",
    "colors = [\"red\", \"green\", \"blue\"]\n",
    "\n",
    "for i in range(3):\n",
    "    ax.scatter(X[y == i, 0], X[y == i, 1], X[y == i, 2], c=colors[i], label=labels[i], edgecolor=\"k\")\n",
    "\n",
    "# ax.set_xlabel(\"bill_depth_mm\")\n",
    "# ax.set_ylabel(\"bill_length_mm\")\n",
    "# ax.set_zlabel(\"body_mass_g\")\n",
    "ax.legend()\n",
    "\n",
    "plt.show()\n"
   ]
  },
  {
   "cell_type": "markdown",
   "id": "30c22728-3db8-4282-a9be-feed0b38ea1b",
   "metadata": {},
   "source": [
    "## Q12"
   ]
  },
  {
   "cell_type": "code",
   "execution_count": 86,
   "id": "166fc783",
   "metadata": {},
   "outputs": [
    {
     "data": {
      "image/png": "[encoded data removed]",
      "text/plain": [
       "<Figure size 864x576 with 6 Axes>"
      ]
     },
     "metadata": {
      "needs_background": "light"
     },
     "output_type": "display_data"
    }
   ],
   "source": [
    "fig, axs = plt.subplots(2, 3, figsize=(12, 8))\n",
    "\n",
    "for i, ax in enumerate(axs.flatten()):\n",
    "    ax.boxplot(df_encoded[df.columns[i]])\n",
    "    ax.set_title(df.columns[i])\n",
    "\n",
    "plt.tight_layout()\n",
    "plt.show()\n"
   ]
  },
  {
   "cell_type": "code",
   "execution_count": 87,
   "id": "4e4e9ac6-54e5-4ada-8693-791190714c5b",
   "metadata": {
    "tags": []
   },
   "outputs": [
    {
     "data": {
      "text/plain": [
       "<AxesSubplot:>"
      ]
     },
     "execution_count": 87,
     "metadata": {},
     "output_type": "execute_result"
    },
    {
     "data": {
      "image/png": "[encoded data removed]",
      "text/plain": [
       "<Figure size 432x288 with 1 Axes>"
      ]
     },
     "metadata": {
      "needs_background": "light"
     },
     "output_type": "display_data"
    }
   ],
   "source": [
    "# species\n",
    "\n",
    "df_encoded.boxplot(column=df.columns[6])"
   ]
  }
 ],
 "metadata": {
  "kernelspec": {
   "display_name": "Python 3 (ipykernel)",
   "language": "python",
   "name": "python3"
  },
  "language_info": {
   "codemirror_mode": {
    "name": "ipython",
    "version": 3
   },
   "file_extension": ".py",
   "mimetype": "text/x-python",
   "name": "python",
   "nbconvert_exporter": "python",
   "pygments_lexer": "ipython3",
   "version": "3.10.2"
  }
 },
 "nbformat": 4,
 "nbformat_minor": 5
}
