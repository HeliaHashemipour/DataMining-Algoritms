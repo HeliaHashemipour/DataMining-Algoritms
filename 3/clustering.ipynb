{
 "cells": [
  {
   "cell_type": "code",
   "execution_count": 33,
   "metadata": {},
   "outputs": [
    {
     "data": {
      "text/html": [
       "<div>\n",
       "<style scoped>\n",
       "    .dataframe tbody tr th:only-of-type {\n",
       "        vertical-align: middle;\n",
       "    }\n",
       "\n",
       "    .dataframe tbody tr th {\n",
       "        vertical-align: top;\n",
       "    }\n",
       "\n",
       "    .dataframe thead th {\n",
       "        text-align: right;\n",
       "    }\n",
       "</style>\n",
       "<table border=\"1\" class=\"dataframe\">\n",
       "  <thead>\n",
       "    <tr style=\"text-align: right;\">\n",
       "      <th></th>\n",
       "      <th>x</th>\n",
       "      <th>y</th>\n",
       "    </tr>\n",
       "  </thead>\n",
       "  <tbody>\n",
       "    <tr>\n",
       "      <th>0</th>\n",
       "      <td>54</td>\n",
       "      <td>1</td>\n",
       "    </tr>\n",
       "    <tr>\n",
       "      <th>1</th>\n",
       "      <td>56</td>\n",
       "      <td>2</td>\n",
       "    </tr>\n",
       "    <tr>\n",
       "      <th>2</th>\n",
       "      <td>102</td>\n",
       "      <td>11</td>\n",
       "    </tr>\n",
       "    <tr>\n",
       "      <th>3</th>\n",
       "      <td>3</td>\n",
       "      <td>2</td>\n",
       "    </tr>\n",
       "    <tr>\n",
       "      <th>4</th>\n",
       "      <td>24</td>\n",
       "      <td>33</td>\n",
       "    </tr>\n",
       "    <tr>\n",
       "      <th>...</th>\n",
       "      <td>...</td>\n",
       "      <td>...</td>\n",
       "    </tr>\n",
       "    <tr>\n",
       "      <th>95</th>\n",
       "      <td>9</td>\n",
       "      <td>92</td>\n",
       "    </tr>\n",
       "    <tr>\n",
       "      <th>96</th>\n",
       "      <td>48</td>\n",
       "      <td>84</td>\n",
       "    </tr>\n",
       "    <tr>\n",
       "      <th>97</th>\n",
       "      <td>64</td>\n",
       "      <td>24</td>\n",
       "    </tr>\n",
       "    <tr>\n",
       "      <th>98</th>\n",
       "      <td>32</td>\n",
       "      <td>32</td>\n",
       "    </tr>\n",
       "    <tr>\n",
       "      <th>99</th>\n",
       "      <td>11</td>\n",
       "      <td>12</td>\n",
       "    </tr>\n",
       "  </tbody>\n",
       "</table>\n",
       "<p>100 rows × 2 columns</p>\n",
       "</div>"
      ],
      "text/plain": [
       "      x   y\n",
       "0    54   1\n",
       "1    56   2\n",
       "2   102  11\n",
       "3     3   2\n",
       "4    24  33\n",
       "..  ...  ..\n",
       "95    9  92\n",
       "96   48  84\n",
       "97   64  24\n",
       "98   32  32\n",
       "99   11  12\n",
       "\n",
       "[100 rows x 2 columns]"
      ]
     },
     "execution_count": 33,
     "metadata": {},
     "output_type": "execute_result"
    }
   ],
   "source": [
    "import pandas as pd\n",
    "\n",
    "df = pd.read_csv('./data.csv')\n",
    "\n",
    "df"
   ]
  },
  {
   "cell_type": "code",
   "execution_count": 34,
   "metadata": {},
   "outputs": [
    {
     "name": "stdout",
     "output_type": "stream",
     "text": [
      "<class 'pandas.core.frame.DataFrame'>\n",
      "RangeIndex: 100 entries, 0 to 99\n",
      "Data columns (total 2 columns):\n",
      " #   Column  Non-Null Count  Dtype\n",
      "---  ------  --------------  -----\n",
      " 0   x       100 non-null    int64\n",
      " 1   y       100 non-null    int64\n",
      "dtypes: int64(2)\n",
      "memory usage: 1.7 KB\n"
     ]
    }
   ],
   "source": [
    "df.info()"
   ]
  },
  {
   "cell_type": "code",
   "execution_count": 41,
   "metadata": {},
   "outputs": [
    {
     "data": {
      "image/png": "[encoded data removed]",
      "text/plain": [
       "<Figure size 432x432 with 1 Axes>"
      ]
     },
     "metadata": {
      "needs_background": "light"
     },
     "output_type": "display_data"
    }
   ],
   "source": [
    "import matplotlib.pyplot as plt\n",
    "import numpy as np\n",
    "\n",
    "# Calculate the correlation coefficient\n",
    "corr_coeff = np.corrcoef(df['x'], df['y'])[0, 1]\n",
    "\n",
    "# Create a scatter plot\n",
    "fig = plt.figure(figsize=(6, 6))\n",
    "ax = fig.add_subplot()\n",
    "ax.scatter(df['x'], df['y'])\n",
    "\n",
    "# Set the correlation coefficient as the plot title\n",
    "ax.set_title(f'Correlation: {corr_coeff:.2f}')\n",
    "\n",
    "# Display the plot\n",
    "plt.show()\n"
   ]
  },
  {
   "cell_type": "code",
   "execution_count": 36,
   "metadata": {},
   "outputs": [],
   "source": [
    "import numpy as np\n",
    "\n",
    "\n",
    "def cosine_proximity_matrix(vector1,vector2):\n",
    "    num_vector1 = vector1.shape[0]\n",
    "    num_vector2 = vector2.shape[0]\n",
    "    # print(num_vector2)\n",
    "    proximity_matrix = np.zeros((num_vector1, num_vector2))\n",
    "\n",
    "    for i in range(num_vector1):\n",
    "        for j in range(num_vector2):\n",
    "            # similarity = cosine_similarity(vector1.iloc[i], vector2.iloc[j])\n",
    "            dot_product = np.dot(vector1.iloc[i], vector2.iloc[j])\n",
    "            cosine_distance = 1 - dot_product / (np.linalg.norm(vector1.iloc[i]) * np.linalg.norm(vector2.iloc[j]))\n",
    "            similarity = 1 - cosine_distance\n",
    "\n",
    "            # print(similarity)\n",
    "            proximity_matrix[i, j] = similarity\n",
    "            # proximity_matrix[j, i] = similarity \n",
    "\n",
    "    return proximity_matrix\n",
    "\n",
    "# cosine_proximity_matrix(df,df)"
   ]
  },
  {
   "cell_type": "code",
   "execution_count": 37,
   "metadata": {},
   "outputs": [],
   "source": [
    "import numpy as np\n",
    "\n",
    "def euclidean_proximity_matrix(vector1,vector2):\n",
    "    num_vectors1 = vector1.shape[0]\n",
    "    num_vectors2 = vector2.shape[0]\n",
    "    proximity_matrix = np.zeros((num_vectors1, num_vectors2))\n",
    "\n",
    "    for i in range(num_vectors1):\n",
    "        for j in range(num_vectors2):\n",
    "            \n",
    "            diff = np.array(vector1.iloc[i]) - np.array(vector2.iloc[j])\n",
    "            squared_diff = diff ** 2\n",
    "            sum_squared_diff = np.sum(squared_diff)\n",
    "            distance = np.sqrt(sum_squared_diff)\n",
    "            \n",
    "            proximity_matrix[i, j] = distance\n",
    "            # proximity_matrix[j, i] = distance\n",
    "\n",
    "    return proximity_matrix\n"
   ]
  },
  {
   "cell_type": "code",
   "execution_count": 38,
   "metadata": {},
   "outputs": [],
   "source": [
    "def kmeans(proximity_measure,k):\n",
    "    centroids = df.sample(n=k)\n",
    "    \n",
    "    iteration =0\n",
    "    oldcenteroid=None\n",
    "\n",
    "    while not centroids.equals(oldcenteroid):\n",
    "        oldcenteroid=centroids\n",
    "        iteration+=1\n",
    "        \n",
    "    if proximity_measure == 'cosine':\n",
    "      lables = np.argmax(cosine_proximity_matrix(centroids, df), axis=0)\n",
    "    elif proximity_measure == 'euclidean':\n",
    "      lables = np.argmin(euclidean_proximity_matrix(centroids, df), axis=0)\n",
    "      \n",
    "    average = np.zeros((k, 2))\n",
    "    cnt = np.zeros(k)\n",
    "\n",
    "    for i, label in enumerate(lables):\n",
    "        average[label] += df.iloc[i][[\"x\", \"y\"]]\n",
    "        cnt[label] += 1\n",
    "\n",
    "    average = average / cnt[:, np.newaxis]\n",
    "    centroids = pd.DataFrame(average, columns=[\"x\", \"y\"])\n",
    "\n",
    "    return centroids\n",
    "        \n",
    "        \n",
    "  "
   ]
  },
  {
   "cell_type": "code",
   "execution_count": 39,
   "metadata": {},
   "outputs": [
    {
     "name": "stdout",
     "output_type": "stream",
     "text": [
      "Euclidean\n"
     ]
    },
    {
     "data": {
      "image/png": "[encoded data removed]",
      "text/plain": [
       "<Figure size 432x432 with 1 Axes>"
      ]
     },
     "metadata": {
      "needs_background": "light"
     },
     "output_type": "display_data"
    }
   ],
   "source": [
    "import matplotlib.pyplot as plt\n",
    "\n",
    "print(\"Euclidean\")\n",
    "centroids = kmeans('euclidean',5)\n",
    "colorslist = ['orange', 'green', 'blue','red','gray']\n",
    "\n",
    "labels = np.argmin(euclidean_proximity_matrix(centroids, df), axis=0)\n",
    "    \n",
    "colors = [colorslist[l] for l in labels]\n",
    "\n",
    "fig = plt.figure(figsize=(6, 6))\n",
    "ax = fig.add_subplot()\n",
    "ax.scatter(df['x'], df['y'], color=colors)\n",
    "ax.scatter(centroids['x'], centroids['y'], color=colorslist, marker='x')\n",
    "\n",
    "plt.show()"
   ]
  },
  {
   "cell_type": "code",
   "execution_count": 40,
   "metadata": {},
   "outputs": [
    {
     "name": "stdout",
     "output_type": "stream",
     "text": [
      "Cosine\n"
     ]
    },
    {
     "data": {
      "image/png": "[encoded data removed]",
      "text/plain": [
       "<Figure size 432x432 with 1 Axes>"
      ]
     },
     "metadata": {
      "needs_background": "light"
     },
     "output_type": "display_data"
    }
   ],
   "source": [
    "print(\"Cosine\")\n",
    "\n",
    "centroids = kmeans('cosine',5)\n",
    "colorslist = ['orange', 'green', 'gray','blue','red']\n",
    "\n",
    "labels = np.argmax(cosine_proximity_matrix(centroids, df), axis=0)\n",
    "    \n",
    "colors = [colorslist[l] for l in labels]\n",
    "\n",
    "fig = plt.figure(figsize=(6, 6))\n",
    "ax = fig.add_subplot()\n",
    "ax.scatter(df['x'], df['y'], color=colors)\n",
    "ax.scatter(centroids['x'], centroids['y'], color=colorslist, marker='x')\n",
    "\n",
    "plt.show()"
   ]
  }
 ],
 "metadata": {
  "kernelspec": {
   "display_name": "Python 3",
   "language": "python",
   "name": "python3"
  },
  "language_info": {
   "codemirror_mode": {
    "name": "ipython",
    "version": 3
   },
   "file_extension": ".py",
   "mimetype": "text/x-python",
   "name": "python",
   "nbconvert_exporter": "python",
   "pygments_lexer": "ipython3",
   "version": "3.9.2"
  },
  "orig_nbformat": 4
 },
 "nbformat": 4,
 "nbformat_minor": 2
}
